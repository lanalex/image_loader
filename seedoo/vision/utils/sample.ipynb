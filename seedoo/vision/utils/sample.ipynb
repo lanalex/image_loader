{
 "cells": [
  {
   "cell_type": "code",
   "execution_count": null,
   "outputs": [],
   "source": [
    "from seedoo.vision.utils.region import Region\n",
    "from seedoo.vision.utils.image_loading import ImageLoader, ListOfImageLoaders\n",
    "import pandas as pd\n",
    "import os\n",
    "path = os.path.dirname(os.path.abspath(seedoo.vision.__file__))\n",
    "\n",
    "\n",
    "\n",
    "# Note region can accept shapely bbox and others. It is documented in the params\n",
    "r1 = Region(row = 0, column = 10, width = 100, height = 100)\n",
    "r2 = Region(row = 100, column = 10, width = 100, height = 100)\n",
    "\n",
    "# If we want to\n",
    "i = ImageLoader(path = os.path.join(path, 'apple.png'))\n",
    "i2 = i.draw_regions([r1,r2])\n",
    "rows = []\n",
    "rows.append({'id' : '1', 'image' : i2})\n",
    "rows.append({'id' : '1', 'image' : i})\n",
    "\n",
    "df = pd.DataFrame(rows)\n",
    "\n",
    "# This is a pandas monkey patch added function\n",
    "df.render()\n",
    "\n"
   ],
   "metadata": {
    "collapsed": false,
    "pycharm": {
     "name": "#%%\n"
    }
   }
  },
  {
   "cell_type": "code",
   "execution_count": null,
   "outputs": [],
   "source": [
    "# If we want to show multiple images in the same sample\n",
    "g = df.groupby(['id']).agg({'image' : lambda x: ListOfImageLoaders(x.values.tolist())})\n",
    "g.render()\n"
   ],
   "metadata": {
    "collapsed": false,
    "pycharm": {
     "name": "#%%\n"
    }
   }
  }
 ],
 "metadata": {
  "kernelspec": {
   "display_name": "Python 3",
   "language": "python",
   "name": "python3"
  },
  "language_info": {
   "codemirror_mode": {
    "name": "ipython",
    "version": 2
   },
   "file_extension": ".py",
   "mimetype": "text/x-python",
   "name": "python",
   "nbconvert_exporter": "python",
   "pygments_lexer": "ipython2",
   "version": "2.7.6"
  }
 },
 "nbformat": 4,
 "nbformat_minor": 0
}